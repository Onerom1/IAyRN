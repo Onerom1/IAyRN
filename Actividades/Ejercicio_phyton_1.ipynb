{
  "cells": [
    {
      "cell_type": "markdown",
      "metadata": {
        "id": "view-in-github",
        "colab_type": "text"
      },
      "source": [
        "<a href=\"https://colab.research.google.com/github/Onerom1/IAyRN/blob/main/Actividades/Ejercicio_phyton_1.ipynb\" target=\"_parent\"><img src=\"https://colab.research.google.com/assets/colab-badge.svg\" alt=\"Open In Colab\"/></a>"
      ]
    },
    {
      "cell_type": "markdown",
      "metadata": {
        "id": "FipicYSNRE-4"
      },
      "source": [
        "#actividad 2 diseño de adgoritmos en phyton\n",
        "Pedro Bernardo Moreno Renteria 1997582 N3-N5"
      ]
    },
    {
      "cell_type": "code",
      "execution_count": null,
      "metadata": {
        "colab": {
          "base_uri": "https://localhost:8080/"
        },
        "id": "oMolAKHoRh_N",
        "outputId": "f7344d3f-fda6-4128-8711-0547b787117a"
      },
      "outputs": [
        {
          "name": "stdout",
          "output_type": "stream",
          "text": [
            "¿Cuál es tu nombre? hola andy \n",
            "Hola hola andy \n"
          ]
        }
      ],
      "source": [
        "# prompt: Desarrolla un algoritmo que le pida al usuario por su nombre y que lo salude con su nombre, excepto si se llama “Ana”, “Juan”, y “Pedro”.\n",
        "\n",
        "nombre = input(\"¿Cuál es tu nombre? \")\n",
        "if nombre not in [\"Ana\", \"Juan\", \"Pedro\"]:\n",
        "    print(\"Hola\", nombre)"
      ]
    },
    {
      "cell_type": "code",
      "execution_count": null,
      "metadata": {
        "colab": {
          "base_uri": "https://localhost:8080/"
        },
        "id": "9WcydJp3YXE0",
        "outputId": "18b42dcc-6177-4d4e-ebe3-1643a6a1e35c"
      },
      "outputs": [
        {
          "name": "stdout",
          "output_type": "stream",
          "text": [
            "Ingresa una lista de elementos separados por comas: 2,3,4,5\n",
            "La lista invertida es: ['5', '4', '3', '2']\n"
          ]
        }
      ],
      "source": [
        "# prompt: Desarrolla un algoritmo que por medio de una función, le pida al usuario una lista de N elementos y como resultado invierta el sentido de la lista. En español\n",
        "\n",
        "def invertir_lista(lista):\n",
        "  \"\"\"\n",
        "  Esta función invierte el sentido de una lista.\n",
        "\n",
        "  Args:\n",
        "    lista: La lista a invertir.\n",
        "\n",
        "  Returns:\n",
        "    La lista invertida.\n",
        "  \"\"\"\n",
        "\n",
        "  # Crear una nueva lista vacía para almacenar la lista invertida.\n",
        "  lista_invertida = []\n",
        "\n",
        "  # Recorrer la lista original en sentido inverso.\n",
        "  for i in range(len(lista) - 1, -1, -1):\n",
        "    # Agregar el elemento actual de la lista original a la lista invertida.\n",
        "    lista_invertida.append(lista[i])\n",
        "\n",
        "  # Devolver la lista invertida.\n",
        "  return lista_invertida\n",
        "\n",
        "\n",
        "# Pedir al usuario que ingrese una lista de elementos.\n",
        "lista = input(\"Ingresa una lista de elementos separados por comas: \").split(\",\")\n",
        "\n",
        "# Invertir la lista.\n",
        "lista_invertida = invertir_lista(lista)\n",
        "\n",
        "# Imprimir la lista invertida.\n",
        "print(\"La lista invertida es:\", lista_invertida)"
      ]
    },
    {
      "cell_type": "code",
      "execution_count": null,
      "metadata": {
        "colab": {
          "base_uri": "https://localhost:8080/"
        },
        "id": "XNrgU5zoZoN4",
        "outputId": "09bdea2c-683c-4f64-d207-1ab98e955d53"
      },
      "outputs": [
        {
          "name": "stdout",
          "output_type": "stream",
          "text": [
            "¿Cuántos números de la serie de Fibonacci quieres generar? 5\n",
            "0\n",
            "1\n",
            "1\n",
            "2\n",
            "3\n"
          ]
        }
      ],
      "source": [
        "# prompt: Desarrolla un algoritmo que le pregunte al usuario cuántos números de la serie de Fibonacci quiere generar y que al final los imprima. En español\n",
        "\n",
        "# Pedir al usuario cuántos números de la serie de Fibonacci quiere generar.\n",
        "n = int(input(\"¿Cuántos números de la serie de Fibonacci quieres generar? \"))\n",
        "\n",
        "# Inicializar las variables que almacenarán los dos primeros números de la serie.\n",
        "a, b = 0, 1\n",
        "\n",
        "# Imprimir los dos primeros números de la serie.\n",
        "print(a)\n",
        "print(b)\n",
        "\n",
        "# Generar los siguientes n-2 números de la serie.\n",
        "for i in range(2, n):\n",
        "  # Calcular el siguiente número de la serie.\n",
        "  c = a + b\n",
        "\n",
        "  # Imprimir el número.\n",
        "  print(c)\n",
        "  # Actualizar los valores de a y b.\n",
        "  a = b\n",
        "  b = c"
      ]
    },
    {
      "cell_type": "code",
      "execution_count": null,
      "metadata": {
        "colab": {
          "background_save": true,
          "base_uri": "https://localhost:8080/"
        },
        "id": "Muor8aliZ4o3",
        "outputId": "c425c9f8-a3e0-4d61-b31e-780ca5c7613f"
      },
      "outputs": [
        {
          "name": "stdout",
          "output_type": "stream",
          "text": [
            "El número que ingresaste es menor que el número objetivo.\n",
            "El número que ingresaste es menor que el número objetivo.\n",
            "El número que ingresaste es menor que el número objetivo.\n",
            "El número que ingresaste es menor que el número objetivo.\n",
            "El número que ingresaste es menor que el número objetivo.\n",
            "El número que ingresaste es menor que el número objetivo.\n",
            "El número que ingresaste es menor que el número objetivo.\n",
            "El número que ingresaste es menor que el número objetivo.\n",
            "El número que ingresaste es mayor que el número objetivo.\n",
            "El número que ingresaste es mayor que el número objetivo.\n",
            "El número que ingresaste es menor que el número objetivo.\n",
            "¡Felicidades! Adivinaste el número en 12 intentos.\n"
          ]
        }
      ],
      "source": [
        "# Juego de adivinar el número: Crea un programa que genere un número aleatorio entre 1 y 100, y luego le pida al usuario que adivine el número. El programa debe proporcionar pistas al usuario si el número es mayor o menor que el número objetivo, y seguir solicitando un nuevo intento hasta que el usuario adivine correctamente. En español\n",
        "\n",
        "import random\n",
        "\n",
        "# Generar un número aleatorio entre 1 y 100\n",
        "numero_objetivo = random.randint(1, 100)\n",
        "# Solicitar al usuario que adivine el número\n",
        "adivinanza = input(\"Adivina un número entre 1 y 100: \")\n",
        "\n",
        "# Generar un número aleatorio entre 1 y 100.\n",
        "import random\n",
        "numero_aleatorio = random.randint(1, 100)\n",
        "numero_objetivo = random.randint(1, 100)\n",
        "\n",
        "# Inicializar la variable que almacena el número de intentos.\n",
        "intentos = 0\n",
        "\n",
        "# Solicitar al usuario que adivine el número.\n",
        "while True:\n",
        "  # Incrementar el número de intentos.\n",
        "  intentos += 1\n",
        "\n",
        "  # Pedir al usuario que ingrese un número.\n",
        "  numero_usuario = int(input(\"Adivina el número (entre 1 y 100): \"))\n",
        "\n",
        "  # Comprobar si el número ingresado es igual al número objetivo.\n",
        "  if numero_usuario == numero_objetivo:\n",
        "    # Imprimir un mensaje de felicitación.\n",
        "    print(\"¡Felicidades! Adivinaste el número en\", intentos, \"intentos.\")\n",
        "    # Salir del bucle.\n",
        "    break\n",
        "  # Comprobar si el número ingresado es mayor que el número objetivo.\n",
        "  elif numero_usuario > numero_objetivo:\n",
        "    # Imprimir una pista.\n",
        "    print(\"El número que ingresaste es mayor que el número objetivo.\")\n",
        "  # Comprobar si el número ingresado es menor que el número objetivo.\n",
        "  else:\n",
        "    # Imprimir una pista.\n",
        "    print(\"El número que ingresaste es menor que el número objetivo.\")# prompt: Juego de adivinar el número: Crea un programa que genere un número aleatorio entre 1 y 100, y luego le pida al usuario que adivine el número. El programa debe proporcionar pistas al usuario si el número es mayor o menor que el número objetivo, y seguir solicitando un nuevo intento hasta que el usuario adivine correctamente. En español\n",
        "\n",
        "import random\n",
        "\n",
        "# Generar un número aleatorio entre 1 y 100.\n",
        "numero_objetivo = random.randint(1, 100)\n",
        "\n",
        "# Inicializar la variable que almacena el número de intentos.\n",
        "intentos = 0\n",
        "\n",
        "# Solicitar al usuario que adivine el número.\n",
        "while True:\n",
        "  # Incrementar el número de intentos.\n",
        "  intentos += 1\n",
        "\n",
        "  # Pedir al usuario que ingrese un número.\n",
        "  numero_usuario = int(input(\"Adivina el número (entre 1 y 100): \"))\n",
        "\n",
        "  # Comprobar si el número ingresado es igual al número objetivo.\n",
        "  if numero_usuario == numero_objetivo:\n",
        "    # Imprimir un mensaje de felicitación.\n",
        "    print(\"¡Felicidades! Adivinaste el número en\", intentos, \"intentos.\")\n",
        "    # Salir del bucle.\n",
        "    break\n",
        "  # Comprobar si el número ingresado es mayor que el número objetivo.\n",
        "  elif numero_usuario > numero_objetivo:\n",
        "    # Imprimir una pista.\n",
        "    print(\"El número que ingresaste es mayor que el número objetivo.\")\n",
        "  # Comprobar si el número ingresado es menor que el número objetivo.\n",
        "  else:\n",
        "    # Imprimir una pista.\n",
        "    print(\"El número que ingresaste es menor que el número objetivo.\")"
      ]
    },
    {
      "cell_type": "code",
      "execution_count": null,
      "metadata": {
        "colab": {
          "base_uri": "https://localhost:8080/"
        },
        "id": "9iCpSsDXa1hp",
        "outputId": "9f27864d-9c3c-4ca8-e048-a96fb26a9b33"
      },
      "outputs": [
        {
          "name": "stdout",
          "output_type": "stream",
          "text": [
            "Ingrese el número inicial del rango: 12\n",
            "Ingrese el número final del rango: 23\n",
            "13\n",
            "17\n",
            "19\n",
            "23\n"
          ]
        }
      ],
      "source": [
        "# prompt: Ejercicio de cálculo de números primos en un rango dado: Escribe un programa que solicite al usuario un rango de números y muestre todos los números primos dentro de ese rango. En español\n",
        "\n",
        "# Solicitar al usuario el rango de números\n",
        "inicio = int(input(\"Ingrese el número inicial del rango: \"))\n",
        "fin = int(input(\"Ingrese el número final del rango: \"))\n",
        "\n",
        "# Iterar sobre el rango de números\n",
        "for numero in range(inicio, fin + 1):\n",
        "  # Verificar si el número es primo\n",
        "  es_primo = True\n",
        "  for divisor in range(2, int(numero**0.5) + 1):\n",
        "    if numero % divisor == 0:\n",
        "      es_primo = False\n",
        "      break\n",
        "\n",
        "  # Imprimir el número si es primo\n",
        "  if es_primo:\n",
        "\n",
        "     print(numero)\n",
        "\n"
      ]
    },
    {
      "cell_type": "code",
      "execution_count": null,
      "metadata": {
        "colab": {
          "base_uri": "https://localhost:8080/"
        },
        "id": "fprJjOmdbjax",
        "outputId": "c9badfda-bfe2-4b7c-89b4-926d043ed31f"
      },
      "outputs": [
        {
          "name": "stdout",
          "output_type": "stream",
          "text": [
            "Ingresa el primer valor: 12\n",
            "Ingresa el segundo valor: 23\n",
            "Suma: 35.0\n",
            "Diferencia: -11.0\n",
            "Producto: 276.0\n",
            "Cociente: 0.5217391304347826\n"
          ]
        }
      ],
      "source": [
        "# prompt: Ejercicio de implementación de una calculadora básica utilizando funciones: Escribe un programa que solicite al usuario dos números y realice operaciones básicas como suma, resta, multiplicación y división utilizando funciones separadas para cada operación. En español\n",
        "\n",
        "def suma(num1, num2):\n",
        "  \"\"\"\n",
        "  Esta función toma dos números como argumentos y devuelve su suma.\n",
        "\n",
        "  Args:\n",
        "      num1: El primer número.\n",
        "      num2: El segundo número.\n",
        "\n",
        "  Returns:\n",
        "      La suma de los dos números.\n",
        "  \"\"\"\n",
        "\n",
        "  return num1 + num2\n",
        "\n",
        "def resta(num1, num2):\n",
        "  \"\"\"\n",
        "  Esta función toma dos números como argumentos y devuelve su diferencia.\n",
        "\n",
        "  Args:\n",
        "      num1: El primer número.\n",
        "      num2: El segundo número.\n",
        "\n",
        "  Returns:\n",
        "      La diferencia de los dos números.\n",
        "  \"\"\"\n",
        "\n",
        "  return num1 - num2\n",
        "\n",
        "def multiplicacion(num1, num2):\n",
        "  \"\"\"\n",
        "  Esta función toma dos números como argumentos y devuelve su producto.\n",
        "\n",
        "  Args:\n",
        "      num1: El primer número.\n",
        "      num2: El segundo número.\n",
        "\n",
        "  Returns:\n",
        "    El producto de los dos números.\n",
        "  \"\"\"\n",
        "\n",
        "  return num1 * num2\n",
        "\n",
        "def division(num1, num2):\n",
        "  \"\"\"\n",
        "  Esta función toma dos números como argumentos y devuelve su cociente.\n",
        "\n",
        "  Args:\n",
        "      num1: El primer número.\n",
        "      num2: El segundo número.\n",
        "\n",
        "  Returns:\n",
        "      El cociente de los dos números.\n",
        "  \"\"\"\n",
        "\n",
        "  return num1 / num2\n",
        "\n",
        "# Obtén los dos números del usuario.\n",
        "num1 = float(input(\"Ingresa el primer valor: \"))\n",
        "num2 = float(input(\"Ingresa el segundo valor: \"))\n",
        "\n",
        "# Realiza las cuatro operaciones básicas utilizando las funciones.\n",
        "suma = suma(num1, num2)\n",
        "diferencia = resta(num1, num2)\n",
        "producto = multiplicacion(num1, num2)\n",
        "cociente = division(num1, num2)\n",
        "\n",
        "# Imprime los resultados.\n",
        "print(\"Suma:\", suma)\n",
        "print(\"Diferencia:\", diferencia)\n",
        "print(\"Producto:\", producto)\n",
        "print(\"Cociente:\", cociente)"
      ]
    }
  ],
  "metadata": {
    "colab": {
      "provenance": [],
      "authorship_tag": "ABX9TyNNVEkfaYnQTFPhM6xjmTJn",
      "include_colab_link": true
    },
    "kernelspec": {
      "display_name": "Python 3",
      "name": "python3"
    },
    "language_info": {
      "name": "python"
    }
  },
  "nbformat": 4,
  "nbformat_minor": 0
}